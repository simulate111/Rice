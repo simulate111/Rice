{
  "cells": [
    {
      "cell_type": "markdown",
      "metadata": {
        "id": "view-in-github",
        "colab_type": "text"
      },
      "source": [
        "<a href=\"https://colab.research.google.com/github/simulate111/Rice/blob/main/Exercise_MLPR2024_Part3_template.ipynb\" target=\"_parent\"><img src=\"https://colab.research.google.com/assets/colab-badge.svg\" alt=\"Open In Colab\"/></a>"
      ]
    },
    {
      "cell_type": "markdown",
      "id": "48574939",
      "metadata": {
        "id": "48574939"
      },
      "source": [
        "Exercise work consists of three parts. After each part, take the mini-exam available in Moodle. The questions concern the exercise so read the instructions carefully and make sure you remember to cover all given tasks. <br>\n",
        "After the deadline of each mini-exam, example results will be published. This helps you to move to the next part. However, take into account that the deadlines are thus strict, no extensions will be granted! <br>\n",
        "Two exam points can be acquired from each mini-exam. All three parts of the exercise are compulsory. Completed exercise work from previous years does not apply for this course."
      ]
    },
    {
      "cell_type": "markdown",
      "id": "0bfbc2b3",
      "metadata": {
        "id": "0bfbc2b3"
      },
      "source": [
        "**Deadlines for the mini-exams:**\n",
        "- Part 1: Fri 9.2.2024 at 23:59\n",
        "- Part 2: Fri 23.2024 at 23:59\n",
        "- Part 3: Fri 8.3.2024 at 23:59\n",
        "\n",
        "**If you encounter problems, Google first and if you can’t find an answer, ask for help**\n",
        "- Moodle area for questions\n",
        "- pekavir@utu.fi\n",
        "\n",
        "**Grading**\n",
        "\n",
        "The exercise covers a part of the grading in this course. The course exam has 5 questions, 6 points of each. Exercise gives at maximum 6 points, i.e. the total score is 36 points."
      ]
    },
    {
      "cell_type": "markdown",
      "id": "fb9b2c64",
      "metadata": {
        "id": "fb9b2c64"
      },
      "source": [
        "# Part 1"
      ]
    },
    {
      "cell_type": "markdown",
      "id": "f4e405c5",
      "metadata": {
        "id": "f4e405c5"
      },
      "source": [
        "Write a proper introductory chapter for your report:\n",
        "<br>\n",
        "- Explain the task and the objectives\n",
        "- Describe, what kind of data were used? Where did it originate? Give the correct reference. Explain shortly, how the data has been prepared in the original article. Explain, how you deployed the data\n",
        "- Report shortly the process used in this task (preprocessing, feature derivation, methods, training, evaluation)\n",
        "- Describe the results"
      ]
    },
    {
      "cell_type": "markdown",
      "id": "4910f193",
      "metadata": {
        "id": "4910f193"
      },
      "source": [
        "# Part 2"
      ]
    },
    {
      "cell_type": "markdown",
      "id": "9d85ec88",
      "metadata": {
        "id": "9d85ec88"
      },
      "source": [
        "# Part 3"
      ]
    },
    {
      "cell_type": "code",
      "execution_count": 1,
      "id": "67124354",
      "metadata": {
        "tags": [],
        "id": "67124354",
        "outputId": "8777772a-c804-4876-c907-ddee4ac1ecc5",
        "colab": {
          "base_uri": "https://localhost:8080/",
          "height": 17
        }
      },
      "outputs": [
        {
          "output_type": "display_data",
          "data": {
            "text/plain": [
              "<IPython.core.display.HTML object>"
            ],
            "text/html": [
              "<style>.container { width:90% !important; }</style>"
            ]
          },
          "metadata": {}
        }
      ],
      "source": [
        "import numpy as np\n",
        "import pandas as pd\n",
        "# from matplotlib import pyplot as plt\n",
        "# import cv2 as cv\n",
        "# import glob, os\n",
        "# import itertools\n",
        "# from random import sample\n",
        "# from random import seed\n",
        "# from scipy.stats import skew\n",
        "# from scipy.stats import kurtosis\n",
        "# from scipy.stats import entropy\n",
        "# import scipy.stats\n",
        "# from sklearn.decomposition import PCA\n",
        "from sklearn.model_selection import RepeatedKFold\n",
        "from sklearn.model_selection import StratifiedKFold\n",
        "from sklearn.model_selection import GridSearchCV\n",
        "from sklearn.ensemble import RandomForestClassifier\n",
        "from sklearn.svm import SVC\n",
        "from sklearn.neural_network import MLPClassifier\n",
        "from sklearn.model_selection import cross_val_predict\n",
        "\n",
        "from IPython.display import display, HTML\n",
        "display(HTML(\"<style>.container { width:90% !important; }</style>\"))\n",
        "\n",
        "import time"
      ]
    },
    {
      "cell_type": "markdown",
      "id": "d973b1d7",
      "metadata": {
        "id": "d973b1d7"
      },
      "source": [
        "## Performance estimation"
      ]
    },
    {
      "cell_type": "markdown",
      "id": "35fd0156",
      "metadata": {
        "id": "35fd0156"
      },
      "source": [
        "### Random Forest"
      ]
    },
    {
      "cell_type": "markdown",
      "id": "08bff697",
      "metadata": {
        "id": "08bff697"
      },
      "source": [
        "Let's estimate the performance of each model using nested cross-validation. <br>\n",
        "Again, we'll use 5-fold repeated cross validation with 3 repetitions and the same parameter ranges as in Part 2 for the inner loop. <br>\n",
        "For the outer loop we'll use 10-fold Stratified Kfold cross-validation."
      ]
    },
    {
      "cell_type": "markdown",
      "id": "be6433aa",
      "metadata": {
        "id": "be6433aa"
      },
      "source": [
        "Study the following implementation of performance estimation for Random Forest model. <br>\n",
        "**You do not need to run the cell below, you can import the results and start from there.** <br>"
      ]
    },
    {
      "cell_type": "code",
      "execution_count": null,
      "id": "d7b2e35e",
      "metadata": {
        "tags": [],
        "id": "d7b2e35e"
      },
      "outputs": [],
      "source": [
        "df = pd.read_parquet('https://raw.githubusercontent.com/simulate111/Rice/main/rice_feature_data.parquet')\n",
        "\n",
        "feats = ['mean_y', 'var_y', 'skew_y', 'kurt_y',\n",
        "         'mean_cr', 'var_cr', 'skew_cr', 'kurt_cr',\n",
        "         'mean_cb', 'var_cb', 'skew_cb', 'kurt_cb',\n",
        "         'major_axis_length', 'minor_axis_length',\n",
        "         'area', 'perimeter',\n",
        "         'equivalent_diameter', 'compactness',\n",
        "         'shape_factor1', 'shape_factor2']\n",
        "\n",
        "# Z-Score using pandas\n",
        "for feat in feats:\n",
        "    df['{}_Z'.format(feat)] = (df[feat] - df[feat].mean()) / df[feat].std()\n",
        "\n",
        "# Z-scored feature names\n",
        "feats_Z = [feat + '_Z' for feat in feats]\n",
        "\n",
        "y = df['class']\n",
        "X = df[feats_Z]\n",
        "\n",
        "kf_outer = StratifiedKFold(n_splits=10, random_state=10, shuffle=True)\n",
        "kf_inner = RepeatedKFold(n_splits=5, n_repeats=3, random_state=5)\n",
        "\n",
        "n_estimators = range(100, 350, 50)\n",
        "max_features = ['sqrt', 'log2', None]\n",
        "bootstrap = [True, False]\n",
        "\n",
        "parameters={\n",
        "    'n_estimators': n_estimators,\n",
        "    'max_features': max_features,\n",
        "    'bootstrap': bootstrap}\n",
        "\n",
        "rf = RandomForestClassifier(random_state=20)\n",
        "\n",
        "results = []\n",
        "\n",
        "start_time = time.time()\n",
        "\n",
        "for fold, (train_index, test_index) in enumerate(kf_outer.split(X, y)):\n",
        "    X_train, X_test = X.iloc[train_index], X.iloc[test_index]\n",
        "    y_train, y_test = y.iloc[train_index], y.iloc[test_index]\n",
        "\n",
        "    # temporary dataframe for saving the results\n",
        "    temp_res = df.iloc[test_index].copy()\n",
        "    temp_res['fold'] = [fold] * temp_res.shape[0]\n",
        "\n",
        "    # select the best model\n",
        "    gscv = GridSearchCV(rf, parameters, cv=kf_inner, return_train_score=False, n_jobs=-1)\n",
        "    gscv.fit(X_train, y_train)\n",
        "\n",
        "    # use the selected model to predict the classes for the test data\n",
        "    temp_res['pred_class'] = gscv.predict(X_test)\n",
        "\n",
        "    # save the best hyperparameter combination\n",
        "    temp_res['best_params'] = [gscv.best_params_] * temp_res.shape[0]\n",
        "\n",
        "    results.append(temp_res)\n",
        "\n",
        "results = pd.concat(results, axis=0)\n",
        "results['accuracy'] = results.apply(lambda i: 1 if i['class'] == i['pred_class'] else 0, axis=1)\n",
        "\n",
        "results.index.name = 'orig_index'\n",
        "# sort the results in the same order as in df\n",
        "results = results.sort_values('orig_index').reset_index(drop=True)\n",
        "results.to_parquet('../results/rf_results.parquet')\n",
        "\n",
        "print(\"--- %s seconds ---\" % (time.time() - start_time))"
      ]
    },
    {
      "cell_type": "markdown",
      "id": "6657d379",
      "metadata": {
        "id": "6657d379"
      },
      "source": [
        "Save the supplied (can be found from Moodle) rf_results.parquet-file in a folder named \"results\"."
      ]
    },
    {
      "cell_type": "code",
      "execution_count": null,
      "id": "678a677c",
      "metadata": {
        "id": "678a677c"
      },
      "outputs": [],
      "source": [
        "# start from here!\n",
        "results = pd.read_parquet('https://raw.githubusercontent.com/simulate111/Rice/main/rf_results.parquet')"
      ]
    },
    {
      "cell_type": "markdown",
      "id": "245b296b",
      "metadata": {
        "id": "245b296b"
      },
      "source": [
        "Answer the questions/tasks: <br>\n",
        " - Which parameter combination is selected the best most often?\n",
        " - Calculate the mean accuracy of each fold and the mean accuracy over all folds\n",
        " - Calculate the confusion matrix over all samples"
      ]
    },
    {
      "cell_type": "markdown",
      "id": "fcf07f21",
      "metadata": {
        "id": "fcf07f21"
      },
      "source": [
        "Here's another way to implement nested cross-validation which uses *cross_val_predict* function from scikit-learn.<br>\n",
        "Modify it to make the perfomance estimation for MLP and SVM (again, use the paramater ranges given in the Part 2).<br>\n",
        "For both models:\n",
        " - Calculate the accuracy over all samples\n",
        " - Show the confusion matrix (you can combine all samples in one confusion matrix as all folds are stratified and include the same number of samples)\n",
        "\n",
        "Compare the three models. Which one performs the best?"
      ]
    },
    {
      "cell_type": "code",
      "execution_count": null,
      "id": "86034af2",
      "metadata": {
        "id": "86034af2"
      },
      "outputs": [],
      "source": [
        "feats_Z = ['mean_y_Z', 'var_y_Z',\n",
        " 'skew_y_Z', 'kurt_y_Z',\n",
        " 'mean_cr_Z', 'var_cr_Z',\n",
        " 'skew_cr_Z', 'kurt_cr_Z',\n",
        " 'mean_cb_Z', 'var_cb_Z',\n",
        " 'skew_cb_Z', 'kurt_cb_Z',\n",
        " 'major_axis_length_Z',\n",
        " 'minor_axis_length_Z',\n",
        " 'area_Z', 'perimeter_Z',\n",
        " 'equivalent_diameter_Z',\n",
        " 'compactness_Z',\n",
        " 'shape_factor1_Z',\n",
        " 'shape_factor2_Z']"
      ]
    },
    {
      "cell_type": "code",
      "execution_count": null,
      "id": "031cbc5b",
      "metadata": {
        "id": "031cbc5b"
      },
      "outputs": [],
      "source": [
        "# another way\n",
        "y = results['class']\n",
        "X = results[feats_Z]\n",
        "\n",
        "rf = RandomForestClassifier(random_state=20)\n",
        "\n",
        "kf_outer = StratifiedKFold(n_splits=10, random_state=10, shuffle=True)\n",
        "kf_inner = RepeatedKFold(n_splits=5, n_repeats=3, random_state=5)\n",
        "\n",
        "n_estimators = range(100, 350, 50)\n",
        "max_features = ['sqrt', 'log2', None]\n",
        "bootstrap = [True, False]\n",
        "\n",
        "parameters={\n",
        "    'n_estimators': n_estimators,\n",
        "    'max_features': max_features,\n",
        "    'bootstrap': bootstrap}\n",
        "\n",
        "gscv = GridSearchCV(rf, parameters, cv=kf_inner, return_train_score=False, n_jobs=-1)\n",
        "nested_pred = cross_val_predict(gscv, X, y, cv=kf_outer)"
      ]
    },
    {
      "cell_type": "markdown",
      "id": "3a80731f",
      "metadata": {
        "id": "3a80731f"
      },
      "source": [
        "Examine the confusion matrices. Were the acquired results as expected? Why?"
      ]
    },
    {
      "cell_type": "markdown",
      "id": "85f896a1",
      "metadata": {
        "id": "85f896a1"
      },
      "source": [
        "## Discussion"
      ]
    },
    {
      "cell_type": "markdown",
      "id": "18c6e2e9",
      "metadata": {
        "id": "18c6e2e9"
      },
      "source": [
        "Discuss you results:\n",
        "\n",
        "- Ponder the limitations and generalization of the models. How well will they perform for data outside this data set? Explain.\n",
        "- Compare your results with the original article. Are they comparable?\n",
        "- Ponder applications for these kind of models, who could benefit from them? What would be interesting to study more on this area?"
      ]
    },
    {
      "cell_type": "markdown",
      "id": "acbb9632",
      "metadata": {
        "id": "acbb9632"
      },
      "source": [
        "## Reflection"
      ]
    },
    {
      "cell_type": "markdown",
      "id": "94edc9be",
      "metadata": {
        "id": "94edc9be"
      },
      "source": [
        "Reflect your work:\n",
        "\n",
        "- Did you have any (mis)conceptions which changed while doing this work?\n",
        "- What did you learn?\n",
        "- What was difficult?\n",
        "- In which aspects of work did you succeed well?\n",
        "- How could you improve you working process?\n",
        "- How can you deploy the learnings from this exercise in future?"
      ]
    }
  ],
  "metadata": {
    "kernelspec": {
      "display_name": "Python 3 (ipykernel)",
      "language": "python",
      "name": "python3"
    },
    "language_info": {
      "codemirror_mode": {
        "name": "ipython",
        "version": 3
      },
      "file_extension": ".py",
      "mimetype": "text/x-python",
      "name": "python",
      "nbconvert_exporter": "python",
      "pygments_lexer": "ipython3",
      "version": "3.11.4"
    },
    "toc": {
      "base_numbering": 1,
      "nav_menu": {},
      "number_sections": true,
      "sideBar": true,
      "skip_h1_title": false,
      "title_cell": "Table of Contents",
      "title_sidebar": "Contents",
      "toc_cell": false,
      "toc_position": {
        "height": "calc(100% - 180px)",
        "left": "10px",
        "top": "150px",
        "width": "232px"
      },
      "toc_section_display": true,
      "toc_window_display": false
    },
    "colab": {
      "provenance": [],
      "include_colab_link": true
    }
  },
  "nbformat": 4,
  "nbformat_minor": 5
}
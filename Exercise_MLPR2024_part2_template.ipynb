{
 "cells": [
  {
   "cell_type": "markdown",
   "id": "0bfbc2b3",
   "metadata": {},
   "source": [
    "Exercise work consists of three parts. After each part, take the mini-exam available in Moodle. The questions concern the exercise so read the instructions carefully and make sure you remember to cover all given tasks. <br>\n",
    "After the deadline of each mini-exam, example results will be published. This helps you to move to the next part. However, take into account that the deadlines are thus strict, no extensions will be granted! <br>\n",
    "Two exam points can be acquired from each mini-exam. All three parts of the exercise are compulsory. Completed exercise work from previous years does not apply for this course."
   ]
  },
  {
   "cell_type": "markdown",
   "id": "ea03f4ab",
   "metadata": {},
   "source": [
    "**Deadlines for the mini-exams:**\n",
    "- Part 1: Fri 9.2.2024 at 23:59\n",
    "- Part 2: Fri 23.2024 at 23:59\n",
    "- Part 3: Fri 8.3.2024 at 23:59\n",
    "\n",
    "**If you encounter problems, Google first and if you can’t find an answer, ask for help**\n",
    "- Moodle area for questions\n",
    "- pekavir@utu.fi\n",
    "\n",
    "**Grading**\n",
    "\n",
    "The exercise covers a part of the grading in this course. The course exam has 5 questions, 6 points of each. Exercise gives at maximum 6 points, i.e. the total score is 36 points."
   ]
  },
  {
   "cell_type": "markdown",
   "id": "fb9b2c64",
   "metadata": {},
   "source": [
    "# Part 1"
   ]
  },
  {
   "cell_type": "markdown",
   "id": "2e0b039a",
   "metadata": {},
   "source": [
    "# Part 2"
   ]
  },
  {
   "cell_type": "markdown",
   "id": "234040c0",
   "metadata": {},
   "source": [
    "Import all the packages needed for this notebook in one cell (add the ones you apply):"
   ]
  },
  {
   "cell_type": "code",
   "execution_count": 1,
   "id": "67124354",
   "metadata": {
    "tags": []
   },
   "outputs": [],
   "source": [
    "import pandas as pd\n",
    "from sklearn.preprocessing import StandardScaler\n",
    "import matplotlib.pyplot as plt\n",
    "import seaborn as sns\n",
    "from sklearn.decomposition import PCA\n",
    "import numpy as np\n",
    "from sklearn.model_selection import RepeatedKFold, GridSearchCV\n",
    "from sklearn.ensemble import RandomForestClassifier\n",
    "from sklearn.model_selection import train_test_split\n",
    "from sklearn.svm import SVC\n",
    "from sklearn.neural_network import MLPClassifier"
   ]
  },
  {
   "cell_type": "markdown",
   "id": "caf8da0c",
   "metadata": {},
   "source": [
    "## Data exploration"
   ]
  },
  {
   "cell_type": "markdown",
   "id": "b31bbea8",
   "metadata": {},
   "source": [
    "Import the training data set prepared in the previous part of the exercise."
   ]
  },
  {
   "cell_type": "code",
   "execution_count": 2,
   "id": "77c0804f",
   "metadata": {
    "tags": []
   },
   "outputs": [
    {
     "data": {
      "text/html": [
       "<div>\n",
       "<style scoped>\n",
       "    .dataframe tbody tr th:only-of-type {\n",
       "        vertical-align: middle;\n",
       "    }\n",
       "\n",
       "    .dataframe tbody tr th {\n",
       "        vertical-align: top;\n",
       "    }\n",
       "\n",
       "    .dataframe thead th {\n",
       "        text-align: right;\n",
       "    }\n",
       "</style>\n",
       "<table border=\"1\" class=\"dataframe\">\n",
       "  <thead>\n",
       "    <tr style=\"text-align: right;\">\n",
       "      <th></th>\n",
       "      <th>mean_y</th>\n",
       "      <th>var_y</th>\n",
       "      <th>skew_y</th>\n",
       "      <th>kurt_y</th>\n",
       "      <th>mean_cr</th>\n",
       "      <th>var_cr</th>\n",
       "      <th>skew_cr</th>\n",
       "      <th>kurt_cr</th>\n",
       "      <th>mean_cb</th>\n",
       "      <th>var_cb</th>\n",
       "      <th>...</th>\n",
       "      <th>major_axis_length</th>\n",
       "      <th>minor_axis_length</th>\n",
       "      <th>area</th>\n",
       "      <th>perimeter</th>\n",
       "      <th>equivalent_diameter</th>\n",
       "      <th>compactness</th>\n",
       "      <th>shape_factor1</th>\n",
       "      <th>shape_factor2</th>\n",
       "      <th>class</th>\n",
       "      <th>class_int</th>\n",
       "    </tr>\n",
       "  </thead>\n",
       "  <tbody>\n",
       "    <tr>\n",
       "      <th>0</th>\n",
       "      <td>218.428418</td>\n",
       "      <td>196.293361</td>\n",
       "      <td>-0.338596</td>\n",
       "      <td>-0.505395</td>\n",
       "      <td>127.369024</td>\n",
       "      <td>0.233115</td>\n",
       "      <td>0.546452</td>\n",
       "      <td>-1.691494</td>\n",
       "      <td>130.737778</td>\n",
       "      <td>1.854876</td>\n",
       "      <td>...</td>\n",
       "      <td>138.040466</td>\n",
       "      <td>71.104782</td>\n",
       "      <td>7582.0</td>\n",
       "      <td>365.705624</td>\n",
       "      <td>98.253256</td>\n",
       "      <td>0.711771</td>\n",
       "      <td>0.018206</td>\n",
       "      <td>0.009378</td>\n",
       "      <td>Arb</td>\n",
       "      <td>0</td>\n",
       "    </tr>\n",
       "    <tr>\n",
       "      <th>1</th>\n",
       "      <td>206.205057</td>\n",
       "      <td>84.868804</td>\n",
       "      <td>1.129581</td>\n",
       "      <td>2.096088</td>\n",
       "      <td>127.158176</td>\n",
       "      <td>0.133157</td>\n",
       "      <td>1.873486</td>\n",
       "      <td>1.509951</td>\n",
       "      <td>130.177003</td>\n",
       "      <td>0.690154</td>\n",
       "      <td>...</td>\n",
       "      <td>122.329712</td>\n",
       "      <td>58.245274</td>\n",
       "      <td>5551.5</td>\n",
       "      <td>314.977702</td>\n",
       "      <td>84.073714</td>\n",
       "      <td>0.687271</td>\n",
       "      <td>0.022035</td>\n",
       "      <td>0.010492</td>\n",
       "      <td>Arb</td>\n",
       "      <td>0</td>\n",
       "    </tr>\n",
       "    <tr>\n",
       "      <th>2</th>\n",
       "      <td>215.034536</td>\n",
       "      <td>366.365052</td>\n",
       "      <td>0.051898</td>\n",
       "      <td>-0.814170</td>\n",
       "      <td>128.246066</td>\n",
       "      <td>0.185518</td>\n",
       "      <td>1.179121</td>\n",
       "      <td>-0.609674</td>\n",
       "      <td>129.843894</td>\n",
       "      <td>0.976466</td>\n",
       "      <td>...</td>\n",
       "      <td>142.999100</td>\n",
       "      <td>66.076553</td>\n",
       "      <td>7342.0</td>\n",
       "      <td>369.563490</td>\n",
       "      <td>96.685701</td>\n",
       "      <td>0.676128</td>\n",
       "      <td>0.019477</td>\n",
       "      <td>0.009000</td>\n",
       "      <td>Arb</td>\n",
       "      <td>0</td>\n",
       "    </tr>\n",
       "    <tr>\n",
       "      <th>3</th>\n",
       "      <td>203.853259</td>\n",
       "      <td>214.463028</td>\n",
       "      <td>-0.487579</td>\n",
       "      <td>-0.702229</td>\n",
       "      <td>127.098179</td>\n",
       "      <td>0.088540</td>\n",
       "      <td>2.700806</td>\n",
       "      <td>5.294351</td>\n",
       "      <td>130.860517</td>\n",
       "      <td>1.253308</td>\n",
       "      <td>...</td>\n",
       "      <td>143.131638</td>\n",
       "      <td>68.949730</td>\n",
       "      <td>7735.5</td>\n",
       "      <td>369.605119</td>\n",
       "      <td>99.242856</td>\n",
       "      <td>0.693368</td>\n",
       "      <td>0.018503</td>\n",
       "      <td>0.008913</td>\n",
       "      <td>Arb</td>\n",
       "      <td>0</td>\n",
       "    </tr>\n",
       "    <tr>\n",
       "      <th>4</th>\n",
       "      <td>226.097925</td>\n",
       "      <td>248.915262</td>\n",
       "      <td>-0.806989</td>\n",
       "      <td>0.882970</td>\n",
       "      <td>128.265342</td>\n",
       "      <td>0.194935</td>\n",
       "      <td>1.062969</td>\n",
       "      <td>-0.870097</td>\n",
       "      <td>129.452778</td>\n",
       "      <td>1.924834</td>\n",
       "      <td>...</td>\n",
       "      <td>145.575623</td>\n",
       "      <td>63.361469</td>\n",
       "      <td>7050.5</td>\n",
       "      <td>369.605119</td>\n",
       "      <td>94.746902</td>\n",
       "      <td>0.650843</td>\n",
       "      <td>0.020648</td>\n",
       "      <td>0.008987</td>\n",
       "      <td>Arb</td>\n",
       "      <td>0</td>\n",
       "    </tr>\n",
       "  </tbody>\n",
       "</table>\n",
       "<p>5 rows × 22 columns</p>\n",
       "</div>"
      ],
      "text/plain": [
       "       mean_y       var_y    skew_y    kurt_y     mean_cr    var_cr   skew_cr  \\\n",
       "0  218.428418  196.293361 -0.338596 -0.505395  127.369024  0.233115  0.546452   \n",
       "1  206.205057   84.868804  1.129581  2.096088  127.158176  0.133157  1.873486   \n",
       "2  215.034536  366.365052  0.051898 -0.814170  128.246066  0.185518  1.179121   \n",
       "3  203.853259  214.463028 -0.487579 -0.702229  127.098179  0.088540  2.700806   \n",
       "4  226.097925  248.915262 -0.806989  0.882970  128.265342  0.194935  1.062969   \n",
       "\n",
       "    kurt_cr     mean_cb    var_cb  ...  major_axis_length  minor_axis_length  \\\n",
       "0 -1.691494  130.737778  1.854876  ...         138.040466          71.104782   \n",
       "1  1.509951  130.177003  0.690154  ...         122.329712          58.245274   \n",
       "2 -0.609674  129.843894  0.976466  ...         142.999100          66.076553   \n",
       "3  5.294351  130.860517  1.253308  ...         143.131638          68.949730   \n",
       "4 -0.870097  129.452778  1.924834  ...         145.575623          63.361469   \n",
       "\n",
       "     area   perimeter  equivalent_diameter  compactness  shape_factor1  \\\n",
       "0  7582.0  365.705624            98.253256     0.711771       0.018206   \n",
       "1  5551.5  314.977702            84.073714     0.687271       0.022035   \n",
       "2  7342.0  369.563490            96.685701     0.676128       0.019477   \n",
       "3  7735.5  369.605119            99.242856     0.693368       0.018503   \n",
       "4  7050.5  369.605119            94.746902     0.650843       0.020648   \n",
       "\n",
       "   shape_factor2  class  class_int  \n",
       "0       0.009378    Arb          0  \n",
       "1       0.010492    Arb          0  \n",
       "2       0.009000    Arb          0  \n",
       "3       0.008913    Arb          0  \n",
       "4       0.008987    Arb          0  \n",
       "\n",
       "[5 rows x 22 columns]"
      ]
     },
     "execution_count": 2,
     "metadata": {},
     "output_type": "execute_result"
    }
   ],
   "source": [
    "df = pd.read_parquet('rice_feature_data.parquet')#('../training_data/rice_feature_data.parquet')\n",
    "df.head()"
   ]
  },
  {
   "cell_type": "markdown",
   "id": "fd257ad6",
   "metadata": {},
   "source": [
    "Standardize the data using Z-score."
   ]
  },
  {
   "cell_type": "code",
   "execution_count": 3,
   "id": "d319dfeb-ef08-4395-b1d1-0abcba60186f",
   "metadata": {
    "tags": []
   },
   "outputs": [
    {
     "data": {
      "text/html": [
       "<div>\n",
       "<style scoped>\n",
       "    .dataframe tbody tr th:only-of-type {\n",
       "        vertical-align: middle;\n",
       "    }\n",
       "\n",
       "    .dataframe tbody tr th {\n",
       "        vertical-align: top;\n",
       "    }\n",
       "\n",
       "    .dataframe thead th {\n",
       "        text-align: right;\n",
       "    }\n",
       "</style>\n",
       "<table border=\"1\" class=\"dataframe\">\n",
       "  <thead>\n",
       "    <tr style=\"text-align: right;\">\n",
       "      <th></th>\n",
       "      <th>mean_y</th>\n",
       "      <th>var_y</th>\n",
       "      <th>skew_y</th>\n",
       "      <th>kurt_y</th>\n",
       "      <th>mean_cr</th>\n",
       "      <th>var_cr</th>\n",
       "      <th>skew_cr</th>\n",
       "      <th>kurt_cr</th>\n",
       "      <th>mean_cb</th>\n",
       "      <th>var_cb</th>\n",
       "      <th>...</th>\n",
       "      <th>major_axis_length</th>\n",
       "      <th>minor_axis_length</th>\n",
       "      <th>area</th>\n",
       "      <th>perimeter</th>\n",
       "      <th>equivalent_diameter</th>\n",
       "      <th>compactness</th>\n",
       "      <th>shape_factor1</th>\n",
       "      <th>shape_factor2</th>\n",
       "      <th>class</th>\n",
       "      <th>class_int</th>\n",
       "    </tr>\n",
       "  </thead>\n",
       "  <tbody>\n",
       "    <tr>\n",
       "      <th>0</th>\n",
       "      <td>-0.189539</td>\n",
       "      <td>0.663085</td>\n",
       "      <td>-0.484918</td>\n",
       "      <td>-0.723800</td>\n",
       "      <td>0.426438</td>\n",
       "      <td>-0.480562</td>\n",
       "      <td>-0.227938</td>\n",
       "      <td>-0.180458</td>\n",
       "      <td>-0.507211</td>\n",
       "      <td>-0.571090</td>\n",
       "      <td>...</td>\n",
       "      <td>-0.665352</td>\n",
       "      <td>0.321248</td>\n",
       "      <td>-0.182390</td>\n",
       "      <td>-0.448377</td>\n",
       "      <td>-0.113360</td>\n",
       "      <td>0.654257</td>\n",
       "      <td>-0.547228</td>\n",
       "      <td>0.461517</td>\n",
       "      <td>Arb</td>\n",
       "      <td>0</td>\n",
       "    </tr>\n",
       "    <tr>\n",
       "      <th>1</th>\n",
       "      <td>-1.171772</td>\n",
       "      <td>-0.667290</td>\n",
       "      <td>1.650517</td>\n",
       "      <td>0.118346</td>\n",
       "      <td>0.346582</td>\n",
       "      <td>-0.569038</td>\n",
       "      <td>0.025026</td>\n",
       "      <td>-0.162598</td>\n",
       "      <td>-0.619518</td>\n",
       "      <td>-0.718146</td>\n",
       "      <td>...</td>\n",
       "      <td>-1.082999</td>\n",
       "      <td>-0.450514</td>\n",
       "      <td>-0.861651</td>\n",
       "      <td>-1.162162</td>\n",
       "      <td>-0.928327</td>\n",
       "      <td>0.447067</td>\n",
       "      <td>0.092735</td>\n",
       "      <td>1.046683</td>\n",
       "      <td>Arb</td>\n",
       "      <td>0</td>\n",
       "    </tr>\n",
       "    <tr>\n",
       "      <th>2</th>\n",
       "      <td>-0.462261</td>\n",
       "      <td>2.693689</td>\n",
       "      <td>0.083048</td>\n",
       "      <td>-0.823756</td>\n",
       "      <td>0.758610</td>\n",
       "      <td>-0.522692</td>\n",
       "      <td>-0.107336</td>\n",
       "      <td>-0.174423</td>\n",
       "      <td>-0.686230</td>\n",
       "      <td>-0.681997</td>\n",
       "      <td>...</td>\n",
       "      <td>-0.533534</td>\n",
       "      <td>0.019479</td>\n",
       "      <td>-0.262677</td>\n",
       "      <td>-0.394093</td>\n",
       "      <td>-0.203455</td>\n",
       "      <td>0.352831</td>\n",
       "      <td>-0.334884</td>\n",
       "      <td>0.262749</td>\n",
       "      <td>Arb</td>\n",
       "      <td>0</td>\n",
       "    </tr>\n",
       "    <tr>\n",
       "      <th>3</th>\n",
       "      <td>-1.360755</td>\n",
       "      <td>0.880026</td>\n",
       "      <td>-0.701611</td>\n",
       "      <td>-0.787518</td>\n",
       "      <td>0.323858</td>\n",
       "      <td>-0.608530</td>\n",
       "      <td>0.182732</td>\n",
       "      <td>-0.141487</td>\n",
       "      <td>-0.482629</td>\n",
       "      <td>-0.647043</td>\n",
       "      <td>...</td>\n",
       "      <td>-0.530010</td>\n",
       "      <td>0.191913</td>\n",
       "      <td>-0.131040</td>\n",
       "      <td>-0.393507</td>\n",
       "      <td>-0.056483</td>\n",
       "      <td>0.498622</td>\n",
       "      <td>-0.497611</td>\n",
       "      <td>0.217360</td>\n",
       "      <td>Arb</td>\n",
       "      <td>0</td>\n",
       "    </tr>\n",
       "    <tr>\n",
       "      <th>4</th>\n",
       "      <td>0.426760</td>\n",
       "      <td>1.291375</td>\n",
       "      <td>-1.166186</td>\n",
       "      <td>-0.274361</td>\n",
       "      <td>0.765911</td>\n",
       "      <td>-0.514356</td>\n",
       "      <td>-0.129477</td>\n",
       "      <td>-0.175875</td>\n",
       "      <td>-0.764559</td>\n",
       "      <td>-0.562258</td>\n",
       "      <td>...</td>\n",
       "      <td>-0.465041</td>\n",
       "      <td>-0.143466</td>\n",
       "      <td>-0.360192</td>\n",
       "      <td>-0.393507</td>\n",
       "      <td>-0.314887</td>\n",
       "      <td>0.139003</td>\n",
       "      <td>-0.139223</td>\n",
       "      <td>0.255920</td>\n",
       "      <td>Arb</td>\n",
       "      <td>0</td>\n",
       "    </tr>\n",
       "  </tbody>\n",
       "</table>\n",
       "<p>5 rows × 22 columns</p>\n",
       "</div>"
      ],
      "text/plain": [
       "     mean_y     var_y    skew_y    kurt_y   mean_cr    var_cr   skew_cr  \\\n",
       "0 -0.189539  0.663085 -0.484918 -0.723800  0.426438 -0.480562 -0.227938   \n",
       "1 -1.171772 -0.667290  1.650517  0.118346  0.346582 -0.569038  0.025026   \n",
       "2 -0.462261  2.693689  0.083048 -0.823756  0.758610 -0.522692 -0.107336   \n",
       "3 -1.360755  0.880026 -0.701611 -0.787518  0.323858 -0.608530  0.182732   \n",
       "4  0.426760  1.291375 -1.166186 -0.274361  0.765911 -0.514356 -0.129477   \n",
       "\n",
       "    kurt_cr   mean_cb    var_cb  ...  major_axis_length  minor_axis_length  \\\n",
       "0 -0.180458 -0.507211 -0.571090  ...          -0.665352           0.321248   \n",
       "1 -0.162598 -0.619518 -0.718146  ...          -1.082999          -0.450514   \n",
       "2 -0.174423 -0.686230 -0.681997  ...          -0.533534           0.019479   \n",
       "3 -0.141487 -0.482629 -0.647043  ...          -0.530010           0.191913   \n",
       "4 -0.175875 -0.764559 -0.562258  ...          -0.465041          -0.143466   \n",
       "\n",
       "       area  perimeter  equivalent_diameter  compactness  shape_factor1  \\\n",
       "0 -0.182390  -0.448377            -0.113360     0.654257      -0.547228   \n",
       "1 -0.861651  -1.162162            -0.928327     0.447067       0.092735   \n",
       "2 -0.262677  -0.394093            -0.203455     0.352831      -0.334884   \n",
       "3 -0.131040  -0.393507            -0.056483     0.498622      -0.497611   \n",
       "4 -0.360192  -0.393507            -0.314887     0.139003      -0.139223   \n",
       "\n",
       "   shape_factor2  class  class_int  \n",
       "0       0.461517    Arb          0  \n",
       "1       1.046683    Arb          0  \n",
       "2       0.262749    Arb          0  \n",
       "3       0.217360    Arb          0  \n",
       "4       0.255920    Arb          0  \n",
       "\n",
       "[5 rows x 22 columns]"
      ]
     },
     "metadata": {},
     "output_type": "display_data"
    }
   ],
   "source": [
    "#Excluding non-numeric values from the dataframe\n",
    "numeric_df = df.drop(columns=['class', 'class_int'])\n",
    "scaler = StandardScaler()\n",
    "scaled_data = scaler.fit_transform(numeric_df)\n",
    "df_scaled = pd.DataFrame(scaled_data, columns=numeric_df.columns)\n",
    "#Adding again the non-numeric data and class categories to the dataframe.\n",
    "for column in ['class', 'class_int']:\n",
    "    df_scaled[column] = df[column]\n",
    "display(df_scaled.head())"
   ]
  },
  {
   "cell_type": "markdown",
   "id": "3b5184f2",
   "metadata": {},
   "source": [
    "### Histograms"
   ]
  },
  {
   "cell_type": "markdown",
   "id": "67eb8467",
   "metadata": {},
   "source": [
    "Plot a histogram for each Z-scored feature. Plot all rice species in the same figure and use different color for each."
   ]
  },
  {
   "cell_type": "markdown",
   "id": "041d456e",
   "metadata": {},
   "source": [
    "df_scaledWhich features may have some discriminative power over rice species according to the histograms?"
   ]
  },
  {
   "cell_type": "code",
   "execution_count": 4,
   "id": "2c7cb3ea-acf9-4520-b3cb-9fcce9997152",
   "metadata": {
    "tags": []
   },
   "outputs": [
    {
     "name": "stdout",
     "output_type": "stream",
     "text": [
      "class\n",
      "Arb    100\n",
      "Bas    100\n",
      "Ips    100\n",
      "Jas    100\n",
      "Kar    100\n",
      "Name: count, dtype: int64\n",
      "500\n"
     ]
    }
   ],
   "source": [
    "rice_species_count = df_scaled['class'].value_counts()\n",
    "print(rice_species_count)\n",
    "total_rice_species_count = df_scaled['class'].count()\n",
    "print(total_rice_species_count)\n"
   ]
  },
  {
   "cell_type": "code",
   "execution_count": 5,
   "id": "fff0fab1-b779-4d0f-bb43-f20def8011a6",
   "metadata": {
    "tags": []
   },
   "outputs": [
    {
     "data": {
      "image/png": "[encoded data removed]",
      "text/plain": [
       "<Figure size 640x480 with 1 Axes>"
      ]
     },
     "metadata": {},
     "output_type": "display_data"
    }
   ],
   "source": [
    "plt.xlim(-4, 4)\n",
    "for column in numeric_df.columns:\n",
    "    sns.histplot(data=df_scaled, x=column, hue='class')\n",
    "plt.title('Histograms of Z-scored Features by Rice Species')\n",
    "plt.xlabel('Z-scored Feature Value')\n",
    "plt.ylabel('Frequency')\n",
    "plt.show()"
   ]
  },
  {
   "cell_type": "code",
   "execution_count": 6,
   "id": "f23ba653-c7f5-4a9c-bd00-6d3ab4ad9eda",
   "metadata": {
    "tags": []
   },
   "outputs": [
    {
     "data": {
      "image/png": "[encoded data removed]",
      "text/plain": [
       "<Figure size 640x480 with 1 Axes>"
      ]
     },
     "metadata": {},
     "output_type": "display_data"
    }
   ],
   "source": [
    "sns.histplot(data=df_scaled, x='class', hue='class', multiple='stack', palette='bright', edgecolor='white')\n",
    "plt.title('Histogram of Rice Species')\n",
    "plt.xlabel('Rice Species')\n",
    "plt.ylabel('Frequency')\n",
    "plt.tight_layout()\n",
    "plt.show()"
   ]
  },
  {
   "cell_type": "markdown",
   "id": "58109c66",
   "metadata": {},
   "source": [
    "### Pairplot"
   ]
  },
  {
   "cell_type": "markdown",
   "id": "00d9b193",
   "metadata": {},
   "source": [
    "Plot pairplots, each Z-scored feature against each Z-scored feature. Are there any correlating features according to the pairplot?"
   ]
  },
  {
   "cell_type": "code",
   "execution_count": null,
   "id": "fa058b79-6bec-4859-88b8-5caf0f31364f",
   "metadata": {
    "tags": []
   },
   "outputs": [],
   "source": [
    "sns.pairplot(df_scaled)\n",
    "plt.suptitle('Pairplot of Z-scored Features', y=1.02)\n",
    "plt.show()"
   ]
  },
  {
   "cell_type": "markdown",
   "id": "4c72e411",
   "metadata": {},
   "source": [
    "### PCA"
   ]
  },
  {
   "cell_type": "markdown",
   "id": "25e68eaa",
   "metadata": {},
   "source": [
    "Fit PCA using two principal components (remember to use Z-scored feature values). <br>\n",
    "Plot the PCA figure with two components, and color the data points according to their species. <br>\n",
    "Show the legend and label the axes.\n",
    "Save the figure as a png-file."
   ]
  },
  {
   "cell_type": "markdown",
   "id": "d501930b",
   "metadata": {},
   "source": [
    "Can you see any clusters in the PCA figure? Does this figure give you any clues, how well you will be able to classify the rice species? Explain."
   ]
  },
  {
   "cell_type": "markdown",
   "id": "8100c607",
   "metadata": {},
   "source": [
    "How many PCA components are needed to cover 97% of the variance?"
   ]
  },
  {
   "cell_type": "code",
   "execution_count": null,
   "id": "b0507726-8ff3-490a-8531-85f6cf064866",
   "metadata": {
    "tags": []
   },
   "outputs": [],
   "source": [
    "pca = PCA(n_components=2)\n",
    "principal_components = pca.fit_transform(df_scaled.drop(columns=['class', 'class_int']))\n",
    "principal_df = pd.DataFrame(data=principal_components, columns=['PC1', 'PC2'])\n",
    "final_df = pd.concat([principal_df, df_scaled['class']], axis=1)\n",
    "print(final_df.head())"
   ]
  },
  {
   "cell_type": "code",
   "execution_count": null,
   "id": "6f047ad0-1cdd-4227-91f8-1d6866a4e5d3",
   "metadata": {
    "tags": []
   },
   "outputs": [],
   "source": [
    "import matplotlib.pyplot as plt\n",
    "for rice_species in df_scaled['class'].unique():\n",
    "    x = final_df.loc[final_df['class'] == rice_species, 'PC1']\n",
    "    y = final_df.loc[final_df['class'] == rice_species, 'PC2']\n",
    "    plt.scatter(x, y, label=rice_species)\n",
    "plt.legend(title='Rice Species')\n",
    "plt.title('PCA Plot with Two Components')\n",
    "plt.xlabel('Principal Component 1')\n",
    "plt.ylabel('Principal Component 2')\n",
    "plt.savefig('pca_plot.png')\n",
    "plt.show()"
   ]
  },
  {
   "cell_type": "code",
   "execution_count": null,
   "id": "2a606e40-063c-4fdb-b6e6-f6b717c5816b",
   "metadata": {
    "tags": []
   },
   "outputs": [],
   "source": [
    "explained_variance_ratio = pca.explained_variance_ratio_\n",
    "cumulative_variance_ratio = np.cumsum(explained_variance_ratio)\n",
    "n_components_97 = np.argmax(cumulative_variance_ratio >= 0.97) + 1\n",
    "print(\"Number of components needed to cover 97% of the variance:\", n_components_97)"
   ]
  },
  {
   "cell_type": "markdown",
   "id": "c248209b",
   "metadata": {},
   "source": [
    "## Model selection"
   ]
  },
  {
   "cell_type": "markdown",
   "id": "f87d5eeb",
   "metadata": {},
   "source": [
    "Select the best model for each classifier. Use 5-fold repeated cross validation with 3 repetitions (*RepeatedKFold* from sklearn). Use the following hyperparameters:\n",
    "\n",
    "- Random Forest\n",
    "    - n_estimators from 100 to 300 with 50 steps\n",
    "    - max_features = ['sqrt', 'log2', None]\n",
    "    - whether to use bootstrap or not \n",
    "\n",
    "- Support Vector Machine\n",
    "    - gamma = ['scale', 'auto']\n",
    "    - C = [0.1, 1, 10, 100]\n",
    "    - kernel = ['linear', 'rbf', 'poly']\n",
    "    \n",
    "- MLP:\n",
    "    - use one hidden layer\n",
    "    - number of neurons in the hidden layer from 15 to 40 in 5 neuron steps\n",
    "    - activation function: hyperbolic tanh function and rectified linear unit function\n",
    "    - solver: stochastic gradient descent and adam\n",
    "    - validation_fraction: 0.1 and 0.3\n",
    "    - strength of the L2 regularization term: alpha = [0.01, 0.1, 1]\n",
    "\n",
    "For each classifier:\n",
    "- Report the selected combination of hyperparameters <br>\n",
    "- Report the accuracy value for each hyperparameter combination <br>\n",
    "\n",
    "For Random Forest model, report the feature importance for each feature. Which features seem to be the most important? Does this correspond with the observations you made in the data exploration? <br>\n",
    "Ponder the model selection process. Which things should be considered? How could you improve the model selection process?"
   ]
  },
  {
   "cell_type": "markdown",
   "id": "58f1ccca",
   "metadata": {},
   "source": [
    "Which model seems to benefit the most of the hyperparameter tuning (with these parameter combinations)?"
   ]
  },
  {
   "cell_type": "markdown",
   "id": "8a6c3874-2302-4f87-9d28-b2765c736fe7",
   "metadata": {},
   "source": [
    "#Random Forest"
   ]
  },
  {
   "cell_type": "code",
   "execution_count": null,
   "id": "57c33374-3bc9-4277-af93-89b7a20f15cc",
   "metadata": {
    "tags": []
   },
   "outputs": [],
   "source": [
    "X = final_df[['PC1', 'PC2']]\n",
    "y = df['class'] \n",
    "X_train, X_test, y_train, y_test = train_test_split(X, y, test_size=0.3)"
   ]
  },
  {
   "cell_type": "code",
   "execution_count": null,
   "id": "8bd1e16a-cb7f-4dfc-bc3b-9a1e802886c6",
   "metadata": {
    "tags": []
   },
   "outputs": [],
   "source": [
    "param_grid_rf = {\n",
    "    'n_estimators': [100, 150, 200, 250, 300],\n",
    "    'max_features': ['sqrt', 'log2', None],\n",
    "    'bootstrap': [True, False]}\n",
    "rf_classifier = RandomForestClassifier()\n",
    "rkf = RepeatedKFold(n_splits=5, n_repeats=3)\n",
    "grid_search_rf = GridSearchCV(estimator=rf_classifier, param_grid=param_grid_rf, cv=rkf, n_jobs=-1)\n",
    "grid_search_rf.fit(X_train, y_train)\n",
    "best_rf_model = grid_search_rf.best_estimator_\n",
    "print(\"Best hyperparameters for Random Forest:\", grid_search_rf.best_params_)\n",
    "print(\"Mean cross-validated score for Random Forest:\", grid_search_rf.best_score_)"
   ]
  },
  {
   "cell_type": "markdown",
   "id": "181514cc-ef25-44e4-8dda-d8a75bfb164a",
   "metadata": {},
   "source": [
    "#Support Vector Machine SVM"
   ]
  },
  {
   "cell_type": "code",
   "execution_count": null,
   "id": "8e99e67e-5ff4-461c-9ee1-54e820535f0e",
   "metadata": {
    "tags": []
   },
   "outputs": [],
   "source": [
    "param_grid_svc = {\n",
    "    'gamma': ['scale', 'auto'],\n",
    "    'C': [0.1, 1, 10, 100],\n",
    "    'kernel': ['linear', 'rbf', 'poly']}\n",
    "svc_classifier = SVC()\n",
    "rkf = RepeatedKFold(n_splits=5, n_repeats=3)\n",
    "grid_search_svc = GridSearchCV(estimator=svc_classifier, param_grid=param_grid_svc, cv=rkf, n_jobs=-1)\n",
    "grid_search_svc.fit(X_train, y_train)\n",
    "best_svc_model = grid_search_svc.best_estimator_\n",
    "print(\"Best hyperparameters for Support Vector Machine:\", grid_search_svc.best_params_)\n",
    "print(\"Mean cross-validated score for Support Vector Machine:\", grid_search_svc.best_score_)"
   ]
  },
  {
   "cell_type": "markdown",
   "id": "0d74bff7-e294-4ea2-b2aa-688f3bb83f69",
   "metadata": {
    "tags": []
   },
   "source": [
    "#MLP"
   ]
  },
  {
   "cell_type": "code",
   "execution_count": null,
   "id": "228a31be-0f3c-4c67-915d-d34e1afa6a9a",
   "metadata": {
    "tags": []
   },
   "outputs": [],
   "source": [
    "param_grid_mlp = {'hidden_layer_sizes': [(neurons,) for neurons in range(15, 41, 5)],\n",
    "    'activation': ['tanh', 'relu'], 'solver': ['sgd', 'adam'], 'validation_fraction': [0.1, 0.3], 'alpha': [0.01, 0.1, 1]}\n",
    "mlp_classifier = MLPClassifier()#(max_iter=500)\n",
    "rkf = RepeatedKFold(n_splits=5, n_repeats=3)\n",
    "grid_search_mlp = GridSearchCV(estimator=mlp_classifier, param_grid=param_grid_mlp, cv=rkf, n_jobs=-1)\n",
    "grid_search_mlp.fit(X_train, y_train)\n",
    "best_mlp_model = grid_search_mlp.best_estimator_\n",
    "print(\"Best hyperparameters for MLP:\", grid_search_mlp.best_params_)\n",
    "print(\"Mean cross-validated score for MLP:\", grid_search_mlp.best_score_)\n",
    "results = pd.DataFrame(grid_search_mlp.cv_results_)\n",
    "relevant_columns = ['param_hidden_layer_sizes', 'param_activation', 'param_solver', 'param_validation_fraction', 'param_alpha', 'mean_test_score']\n",
    "results = results[relevant_columns]\n",
    "results_sorted = results.sort_values(by='mean_test_score', ascending=False)\n",
    "print(\"All results sorted by mean_test_score:\")\n",
    "display(results_sorted)"
   ]
  },
  {
   "cell_type": "code",
   "execution_count": null,
   "id": "80b2d6be-9c7c-48b5-8004-4f7a71b0ddf6",
   "metadata": {},
   "outputs": [],
   "source": []
  }
 ],
 "metadata": {
  "kernelspec": {
   "display_name": "Python 3 (ipykernel)",
   "language": "python",
   "name": "python3"
  },
  "language_info": {
   "codemirror_mode": {
    "name": "ipython",
    "version": 3
   },
   "file_extension": ".py",
   "mimetype": "text/x-python",
   "name": "python",
   "nbconvert_exporter": "python",
   "pygments_lexer": "ipython3",
   "version": "3.11.4"
  },
  "toc": {
   "base_numbering": 1,
   "nav_menu": {},
   "number_sections": true,
   "sideBar": true,
   "skip_h1_title": false,
   "title_cell": "Table of Contents",
   "title_sidebar": "Contents",
   "toc_cell": false,
   "toc_position": {
    "height": "calc(100% - 180px)",
    "left": "10px",
    "top": "150px",
    "width": "232px"
   },
   "toc_section_display": true,
   "toc_window_display": false
  }
 },
 "nbformat": 4,
 "nbformat_minor": 5
}
